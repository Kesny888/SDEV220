{
 "cells": [
  {
   "cell_type": "markdown",
   "id": "f9b47878-3bdc-4492-aa92-a7d2a687ef47",
   "metadata": {},
   "source": [
    "3.1 How many seconds are in an hour? Use the interactive interpreter as a calculator and multiply the number of seconds in a minute (60) by the number of minutes in an hour (also 60)."
   ]
  },
  {
   "cell_type": "code",
   "execution_count": 13,
   "id": "0762dbe8-cbb0-4b5d-90f6-09158a2e1c15",
   "metadata": {},
   "outputs": [
    {
     "name": "stdout",
     "output_type": "stream",
     "text": [
      "3600 seconds\n"
     ]
    }
   ],
   "source": [
    "seconds = 60\n",
    "minutes = 60\n",
    "hour = 1\n",
    "print(seconds * minutes * hour, \"seconds\")"
   ]
  },
  {
   "cell_type": "markdown",
   "id": "f9197b42-75ae-4582-aa76-dccbb6e35724",
   "metadata": {},
   "source": [
    "3.2 Assign the result from the previous task (seconds in an hour) to a variable called seconds_per_hour."
   ]
  },
  {
   "cell_type": "code",
   "execution_count": 14,
   "id": "c878daf5-ad88-48a2-a68e-597cb6ed7a5e",
   "metadata": {},
   "outputs": [],
   "source": [
    "seconds_per_hour = 3600"
   ]
  },
  {
   "cell_type": "markdown",
   "id": "2140156e-f40e-4b8f-8d43-10b987fde8a8",
   "metadata": {},
   "source": [
    "3.3 How many seconds are in a day? Use your seconds_per_hour variable."
   ]
  },
  {
   "cell_type": "code",
   "execution_count": 15,
   "id": "a30ff6c3-d4ed-4c10-94fb-ecadd8ef779b",
   "metadata": {},
   "outputs": [
    {
     "name": "stdout",
     "output_type": "stream",
     "text": [
      "86400 Seconds\n"
     ]
    }
   ],
   "source": [
    "HourInDay = 24\n",
    "print(HourInDay * seconds_per_hour, \"Seconds\")"
   ]
  },
  {
   "cell_type": "markdown",
   "id": "23182125-63fd-4533-847e-8a530e29eb3a",
   "metadata": {},
   "source": [
    "3.4 Calculate seconds per day again, but this time save the result in a variable called seconds_per_day."
   ]
  },
  {
   "cell_type": "code",
   "execution_count": 10,
   "id": "ea035034-6e53-47a9-9425-613b12756f9b",
   "metadata": {},
   "outputs": [],
   "source": [
    "Seconds_per_day = 86400"
   ]
  },
  {
   "cell_type": "markdown",
   "id": "a730584b-1ee1-409c-8725-eabbd501ff94",
   "metadata": {},
   "source": [
    "3.5 Divide seconds_per_day by seconds_per_hour. Use floating-point (/) division."
   ]
  },
  {
   "cell_type": "code",
   "execution_count": 11,
   "id": "b6e8b99b-731a-4f01-9027-a4e37411390e",
   "metadata": {},
   "outputs": [
    {
     "name": "stdout",
     "output_type": "stream",
     "text": [
      "24.0\n"
     ]
    }
   ],
   "source": [
    "floating_point_division = Seconds_per_day / seconds_per_hour\n",
    "print(floating_point_division)"
   ]
  },
  {
   "cell_type": "markdown",
   "id": "0c00263f-61a9-4f24-ae62-4e4fc3e42580",
   "metadata": {},
   "source": [
    "3.6 Divide seconds_per_day by seconds_per_hour, using integer (//) division. Did this number agree with the floating-point value from the previous question, aside from the final .0?"
   ]
  },
  {
   "cell_type": "code",
   "execution_count": 12,
   "id": "fb4d01fe-2aff-4c30-8288-e73384c4f240",
   "metadata": {},
   "outputs": [
    {
     "name": "stdout",
     "output_type": "stream",
     "text": [
      "24\n"
     ]
    }
   ],
   "source": [
    "integer_division = Seconds_per_day // seconds_per_hour\n",
    "print(integer_division)"
   ]
  }
 ],
 "metadata": {
  "kernelspec": {
   "display_name": "Python 3 (ipykernel)",
   "language": "python",
   "name": "python3"
  },
  "language_info": {
   "codemirror_mode": {
    "name": "ipython",
    "version": 3
   },
   "file_extension": ".py",
   "mimetype": "text/x-python",
   "name": "python",
   "nbconvert_exporter": "python",
   "pygments_lexer": "ipython3",
   "version": "3.11.7"
  }
 },
 "nbformat": 4,
 "nbformat_minor": 5
}
